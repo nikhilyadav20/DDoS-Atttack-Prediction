{
 "cells": [
  {
   "cell_type": "code",
   "execution_count": 31,
   "id": "88752a6d",
   "metadata": {},
   "outputs": [],
   "source": [
    "import pandas as pd\n",
    "import numpy as np\n",
    "import glob\n",
    "import matplotlib.pyplot as plt\n",
    "from sklearn.preprocessing import LabelEncoder\n",
    "from sklearn.utils import resample\n",
    "from sklearn.model_selection import train_test_split\n",
    "from sklearn.neighbors import KNeighborsClassifier\n",
    "from sklearn import metrics\n",
    "from sklearn.svm import SVC\n",
    "from sklearn.tree import DecisionTreeClassifier\n",
    "from sklearn.ensemble import RandomForestClassifier\n",
    "from sklearn.discriminant_analysis import QuadraticDiscriminantAnalysis\n",
    "from sklearn.naive_bayes import CategoricalNB\n",
    "from sklearn.linear_model import LogisticRegression\n",
    "from sklearn.linear_model import SGDClassifier\n",
    "from sklearn.ensemble import AdaBoostClassifier\n",
    "import xgboost as xgb\n",
    "from sklearn.ensemble import StackingClassifier\n",
    "from sklearn.metrics import accuracy_score\n",
    "import seaborn as sns\n",
    "from sklearn.metrics import classification_report,confusion_matrix\n",
    "from sklearn.metrics import precision_score\n",
    "from sklearn.metrics import recall_score"
   ]
  },
  {
   "cell_type": "code",
   "execution_count": 3,
   "id": "6bb48771",
   "metadata": {},
   "outputs": [],
   "source": [
    "features = [\"Unnamed: 0\", \"Flow ID\", \"Source IP\", \"Source Port\", \"Destination IP\", \"Destination Port\", \"Protocol\", \"Timestamp\",\n",
    "             \"Flow Duration\", \"Total Fwd Packets\", \"Total Backward Packets\", \"Total Length of Fwd Packets\",\n",
    "             \"Total Length of Bwd Packets\", \"Fwd Packet Length Max\", \"Fwd Packet Length Min\", \"Fwd Packet Length Mean\",\n",
    "             \"Fwd Packet Length Std\", \"Bwd Packet Length Max\", \"Bwd Packet Length Min\", \"Bwd Packet Length Mean\",\n",
    "             \"Bwd Packet Length Std\", \"Flow Bytes/s\", \"Flow Packets/s\", \"Flow IAT Mean\", \"Flow IAT Std\", \"Flow IAT Max\",\n",
    "             \"Flow IAT Min\", \"Fwd IAT Total\", \"Fwd IAT Mean\", \"Fwd IAT Std\", \"Fwd IAT Max\", \"Fwd IAT Min\", \"Bwd IAT Total\",\n",
    "             \"Bwd IAT Mean\", \"Bwd IAT Std\", \"Bwd IAT Max\", \"Bwd IAT Min\", \"Fwd PSH Flags\", \"Bwd PSH Flags\", \"Fwd URG Flags\",\n",
    "             \"Bwd URG Flags\", \"Fwd Header Length\", \"Bwd Header Length\", \"Fwd Packets/s\", \"Bwd Packets/s\",\n",
    "             \"Min Packet Length\", \"Max Packet Length\", \"Packet Length Mean\", \"Packet Length Std\",\n",
    "             \"Packet Length Variance\", \"FIN Flag Count\", \"SYN Flag Count\", \"RST Flag Count\", \"PSH Flag Count\",\n",
    "             \"ACK Flag Count\", \"URG Flag Count\", \"CWE Flag Count\", \"ECE Flag Count\", \"Down/Up Ratio\", \"Average Packet Size\",\n",
    "             \"Avg Fwd Segment Size\", \"Avg Bwd Segment Size\", \"Fwd Header Length.1\",\"Fwd Avg Bytes/Bulk\", \"Fwd Avg Packets/Bulk\",\n",
    "             \"Fwd Avg Bulk Rate\", \"Bwd Avg Bytes/Bulk\", \"Bwd Avg Packets/Bulk\",\"Bwd Avg Bulk Rate\",\"Subflow Fwd Packets\",\n",
    "             \"Subflow Fwd Bytes\", \"Subflow Bwd Packets\", \"Subflow Bwd Bytes\", \"Init_Win_bytes_forward\" , \"Init_Win_bytes_backward\",\n",
    "             \"act_data_pkt_fwd\", \"min_seg_size_forward\", \"Active Mean\", \"Active Std\", \"Active Max\", \"Active Min\",\n",
    "             \"Idle Mean\", \"Idle Std\", \"Idle Max\", \"Idle Min\", \"SimillarHTTP\", \"Inbound\", \"Label\"]"
   ]
  },
  {
   "cell_type": "code",
   "execution_count": 4,
   "id": "b90c5e43",
   "metadata": {},
   "outputs": [
    {
     "name": "stderr",
     "output_type": "stream",
     "text": [
      "C:\\Users\\nikhi\\anaconda3\\lib\\site-packages\\pandas\\core\\reshape\\concat.py:348: DtypeWarning: Columns (85) have mixed types.Specify dtype option on import or set low_memory=False.\n",
      "  objs = list(objs)\n"
     ]
    }
   ],
   "source": [
    "path_train = r'C:\\Users\\nikhi\\Downloads\\CSV-03-11\\03-11'\n",
    "all_files_train = glob.glob(path_train + \"/*.csv\")\n",
    "df_from_each_file_train = (pd.read_csv(f, header=None, names=features, skiprows=1000, nrows=20000) for f in all_files_train)\n",
    "df = pd.concat(df_from_each_file_train, ignore_index=True)"
   ]
  },
  {
   "cell_type": "code",
   "execution_count": 5,
   "id": "06925220",
   "metadata": {},
   "outputs": [
    {
     "name": "stdout",
     "output_type": "stream",
     "text": [
      "<class 'pandas.core.frame.DataFrame'>\n",
      "RangeIndex: 140000 entries, 0 to 139999\n",
      "Data columns (total 88 columns):\n",
      " #   Column                       Non-Null Count   Dtype  \n",
      "---  ------                       --------------   -----  \n",
      " 0   Unnamed: 0                   140000 non-null  int64  \n",
      " 1   Flow ID                      140000 non-null  object \n",
      " 2   Source IP                    140000 non-null  object \n",
      " 3   Source Port                  140000 non-null  int64  \n",
      " 4   Destination IP               140000 non-null  object \n",
      " 5   Destination Port             140000 non-null  int64  \n",
      " 6   Protocol                     140000 non-null  int64  \n",
      " 7   Timestamp                    140000 non-null  object \n",
      " 8   Flow Duration                140000 non-null  int64  \n",
      " 9   Total Fwd Packets            140000 non-null  int64  \n",
      " 10  Total Backward Packets       140000 non-null  int64  \n",
      " 11  Total Length of Fwd Packets  140000 non-null  float64\n",
      " 12  Total Length of Bwd Packets  140000 non-null  float64\n",
      " 13  Fwd Packet Length Max        140000 non-null  float64\n",
      " 14  Fwd Packet Length Min        140000 non-null  float64\n",
      " 15  Fwd Packet Length Mean       140000 non-null  float64\n",
      " 16  Fwd Packet Length Std        140000 non-null  float64\n",
      " 17  Bwd Packet Length Max        140000 non-null  float64\n",
      " 18  Bwd Packet Length Min        140000 non-null  float64\n",
      " 19  Bwd Packet Length Mean       140000 non-null  float64\n",
      " 20  Bwd Packet Length Std        140000 non-null  float64\n",
      " 21  Flow Bytes/s                 139995 non-null  float64\n",
      " 22  Flow Packets/s               140000 non-null  float64\n",
      " 23  Flow IAT Mean                140000 non-null  float64\n",
      " 24  Flow IAT Std                 140000 non-null  float64\n",
      " 25  Flow IAT Max                 140000 non-null  float64\n",
      " 26  Flow IAT Min                 140000 non-null  float64\n",
      " 27  Fwd IAT Total                140000 non-null  float64\n",
      " 28  Fwd IAT Mean                 140000 non-null  float64\n",
      " 29  Fwd IAT Std                  140000 non-null  float64\n",
      " 30  Fwd IAT Max                  140000 non-null  float64\n",
      " 31  Fwd IAT Min                  140000 non-null  float64\n",
      " 32  Bwd IAT Total                140000 non-null  float64\n",
      " 33  Bwd IAT Mean                 140000 non-null  float64\n",
      " 34  Bwd IAT Std                  140000 non-null  float64\n",
      " 35  Bwd IAT Max                  140000 non-null  float64\n",
      " 36  Bwd IAT Min                  140000 non-null  float64\n",
      " 37  Fwd PSH Flags                140000 non-null  int64  \n",
      " 38  Bwd PSH Flags                140000 non-null  int64  \n",
      " 39  Fwd URG Flags                140000 non-null  int64  \n",
      " 40  Bwd URG Flags                140000 non-null  int64  \n",
      " 41  Fwd Header Length            140000 non-null  int64  \n",
      " 42  Bwd Header Length            140000 non-null  int64  \n",
      " 43  Fwd Packets/s                140000 non-null  float64\n",
      " 44  Bwd Packets/s                140000 non-null  float64\n",
      " 45  Min Packet Length            140000 non-null  float64\n",
      " 46  Max Packet Length            140000 non-null  float64\n",
      " 47  Packet Length Mean           140000 non-null  float64\n",
      " 48  Packet Length Std            140000 non-null  float64\n",
      " 49  Packet Length Variance       140000 non-null  float64\n",
      " 50  FIN Flag Count               140000 non-null  int64  \n",
      " 51  SYN Flag Count               140000 non-null  int64  \n",
      " 52  RST Flag Count               140000 non-null  int64  \n",
      " 53  PSH Flag Count               140000 non-null  int64  \n",
      " 54  ACK Flag Count               140000 non-null  int64  \n",
      " 55  URG Flag Count               140000 non-null  int64  \n",
      " 56  CWE Flag Count               140000 non-null  int64  \n",
      " 57  ECE Flag Count               140000 non-null  int64  \n",
      " 58  Down/Up Ratio                140000 non-null  float64\n",
      " 59  Average Packet Size          140000 non-null  float64\n",
      " 60  Avg Fwd Segment Size         140000 non-null  float64\n",
      " 61  Avg Bwd Segment Size         140000 non-null  float64\n",
      " 62  Fwd Header Length.1          140000 non-null  int64  \n",
      " 63  Fwd Avg Bytes/Bulk           140000 non-null  int64  \n",
      " 64  Fwd Avg Packets/Bulk         140000 non-null  int64  \n",
      " 65  Fwd Avg Bulk Rate            140000 non-null  int64  \n",
      " 66  Bwd Avg Bytes/Bulk           140000 non-null  int64  \n",
      " 67  Bwd Avg Packets/Bulk         140000 non-null  int64  \n",
      " 68  Bwd Avg Bulk Rate            140000 non-null  int64  \n",
      " 69  Subflow Fwd Packets          140000 non-null  int64  \n",
      " 70  Subflow Fwd Bytes            140000 non-null  int64  \n",
      " 71  Subflow Bwd Packets          140000 non-null  int64  \n",
      " 72  Subflow Bwd Bytes            140000 non-null  int64  \n",
      " 73  Init_Win_bytes_forward       140000 non-null  int64  \n",
      " 74  Init_Win_bytes_backward      140000 non-null  int64  \n",
      " 75  act_data_pkt_fwd             140000 non-null  int64  \n",
      " 76  min_seg_size_forward         140000 non-null  int64  \n",
      " 77  Active Mean                  140000 non-null  float64\n",
      " 78  Active Std                   140000 non-null  float64\n",
      " 79  Active Max                   140000 non-null  float64\n",
      " 80  Active Min                   140000 non-null  float64\n",
      " 81  Idle Mean                    140000 non-null  float64\n",
      " 82  Idle Std                     140000 non-null  float64\n",
      " 83  Idle Max                     140000 non-null  float64\n",
      " 84  Idle Min                     140000 non-null  float64\n",
      " 85  SimillarHTTP                 140000 non-null  object \n",
      " 86  Inbound                      140000 non-null  int64  \n",
      " 87  Label                        140000 non-null  object \n",
      "dtypes: float64(45), int64(37), object(6)\n",
      "memory usage: 94.0+ MB\n"
     ]
    }
   ],
   "source": [
    "df.info()"
   ]
  },
  {
   "cell_type": "code",
   "execution_count": 6,
   "id": "0575dc8c",
   "metadata": {},
   "outputs": [
    {
     "data": {
      "text/html": [
       "<div>\n",
       "<style scoped>\n",
       "    .dataframe tbody tr th:only-of-type {\n",
       "        vertical-align: middle;\n",
       "    }\n",
       "\n",
       "    .dataframe tbody tr th {\n",
       "        vertical-align: top;\n",
       "    }\n",
       "\n",
       "    .dataframe thead th {\n",
       "        text-align: right;\n",
       "    }\n",
       "</style>\n",
       "<table border=\"1\" class=\"dataframe\">\n",
       "  <thead>\n",
       "    <tr style=\"text-align: right;\">\n",
       "      <th></th>\n",
       "      <th>Unnamed: 0</th>\n",
       "      <th>Flow ID</th>\n",
       "      <th>Source IP</th>\n",
       "      <th>Source Port</th>\n",
       "      <th>Destination IP</th>\n",
       "      <th>Destination Port</th>\n",
       "      <th>Protocol</th>\n",
       "      <th>Timestamp</th>\n",
       "      <th>Flow Duration</th>\n",
       "      <th>Total Fwd Packets</th>\n",
       "      <th>...</th>\n",
       "      <th>Active Std</th>\n",
       "      <th>Active Max</th>\n",
       "      <th>Active Min</th>\n",
       "      <th>Idle Mean</th>\n",
       "      <th>Idle Std</th>\n",
       "      <th>Idle Max</th>\n",
       "      <th>Idle Min</th>\n",
       "      <th>SimillarHTTP</th>\n",
       "      <th>Inbound</th>\n",
       "      <th>Label</th>\n",
       "    </tr>\n",
       "  </thead>\n",
       "  <tbody>\n",
       "    <tr>\n",
       "      <th>0</th>\n",
       "      <td>135395</td>\n",
       "      <td>172.16.0.5-192.168.50.4-707-5922-17</td>\n",
       "      <td>172.16.0.5</td>\n",
       "      <td>707</td>\n",
       "      <td>192.168.50.4</td>\n",
       "      <td>5922</td>\n",
       "      <td>17</td>\n",
       "      <td>2018-11-03 10:09:00.702812</td>\n",
       "      <td>49</td>\n",
       "      <td>2</td>\n",
       "      <td>...</td>\n",
       "      <td>0.0</td>\n",
       "      <td>0.0</td>\n",
       "      <td>0.0</td>\n",
       "      <td>0.0</td>\n",
       "      <td>0.0</td>\n",
       "      <td>0.0</td>\n",
       "      <td>0.0</td>\n",
       "      <td>0</td>\n",
       "      <td>1</td>\n",
       "      <td>NetBIOS</td>\n",
       "    </tr>\n",
       "    <tr>\n",
       "      <th>1</th>\n",
       "      <td>173123</td>\n",
       "      <td>172.16.0.5-192.168.50.4-708-6145-17</td>\n",
       "      <td>172.16.0.5</td>\n",
       "      <td>708</td>\n",
       "      <td>192.168.50.4</td>\n",
       "      <td>6145</td>\n",
       "      <td>17</td>\n",
       "      <td>2018-11-03 10:09:00.702862</td>\n",
       "      <td>1</td>\n",
       "      <td>2</td>\n",
       "      <td>...</td>\n",
       "      <td>0.0</td>\n",
       "      <td>0.0</td>\n",
       "      <td>0.0</td>\n",
       "      <td>0.0</td>\n",
       "      <td>0.0</td>\n",
       "      <td>0.0</td>\n",
       "      <td>0.0</td>\n",
       "      <td>0</td>\n",
       "      <td>1</td>\n",
       "      <td>NetBIOS</td>\n",
       "    </tr>\n",
       "    <tr>\n",
       "      <th>2</th>\n",
       "      <td>38935</td>\n",
       "      <td>172.16.0.5-192.168.50.4-709-37913-17</td>\n",
       "      <td>172.16.0.5</td>\n",
       "      <td>709</td>\n",
       "      <td>192.168.50.4</td>\n",
       "      <td>37913</td>\n",
       "      <td>17</td>\n",
       "      <td>2018-11-03 10:09:00.702928</td>\n",
       "      <td>1</td>\n",
       "      <td>2</td>\n",
       "      <td>...</td>\n",
       "      <td>0.0</td>\n",
       "      <td>0.0</td>\n",
       "      <td>0.0</td>\n",
       "      <td>0.0</td>\n",
       "      <td>0.0</td>\n",
       "      <td>0.0</td>\n",
       "      <td>0.0</td>\n",
       "      <td>0</td>\n",
       "      <td>1</td>\n",
       "      <td>NetBIOS</td>\n",
       "    </tr>\n",
       "    <tr>\n",
       "      <th>3</th>\n",
       "      <td>72065</td>\n",
       "      <td>172.16.0.5-192.168.50.4-710-54270-17</td>\n",
       "      <td>172.16.0.5</td>\n",
       "      <td>710</td>\n",
       "      <td>192.168.50.4</td>\n",
       "      <td>54270</td>\n",
       "      <td>17</td>\n",
       "      <td>2018-11-03 10:09:00.702976</td>\n",
       "      <td>1</td>\n",
       "      <td>2</td>\n",
       "      <td>...</td>\n",
       "      <td>0.0</td>\n",
       "      <td>0.0</td>\n",
       "      <td>0.0</td>\n",
       "      <td>0.0</td>\n",
       "      <td>0.0</td>\n",
       "      <td>0.0</td>\n",
       "      <td>0.0</td>\n",
       "      <td>0</td>\n",
       "      <td>1</td>\n",
       "      <td>NetBIOS</td>\n",
       "    </tr>\n",
       "    <tr>\n",
       "      <th>4</th>\n",
       "      <td>117545</td>\n",
       "      <td>172.16.0.5-192.168.50.4-711-39029-17</td>\n",
       "      <td>172.16.0.5</td>\n",
       "      <td>711</td>\n",
       "      <td>192.168.50.4</td>\n",
       "      <td>39029</td>\n",
       "      <td>17</td>\n",
       "      <td>2018-11-03 10:09:00.703328</td>\n",
       "      <td>1</td>\n",
       "      <td>2</td>\n",
       "      <td>...</td>\n",
       "      <td>0.0</td>\n",
       "      <td>0.0</td>\n",
       "      <td>0.0</td>\n",
       "      <td>0.0</td>\n",
       "      <td>0.0</td>\n",
       "      <td>0.0</td>\n",
       "      <td>0.0</td>\n",
       "      <td>0</td>\n",
       "      <td>1</td>\n",
       "      <td>NetBIOS</td>\n",
       "    </tr>\n",
       "  </tbody>\n",
       "</table>\n",
       "<p>5 rows × 88 columns</p>\n",
       "</div>"
      ],
      "text/plain": [
       "   Unnamed: 0                               Flow ID   Source IP  Source Port  \\\n",
       "0      135395   172.16.0.5-192.168.50.4-707-5922-17  172.16.0.5          707   \n",
       "1      173123   172.16.0.5-192.168.50.4-708-6145-17  172.16.0.5          708   \n",
       "2       38935  172.16.0.5-192.168.50.4-709-37913-17  172.16.0.5          709   \n",
       "3       72065  172.16.0.5-192.168.50.4-710-54270-17  172.16.0.5          710   \n",
       "4      117545  172.16.0.5-192.168.50.4-711-39029-17  172.16.0.5          711   \n",
       "\n",
       "  Destination IP  Destination Port  Protocol                   Timestamp  \\\n",
       "0   192.168.50.4              5922        17  2018-11-03 10:09:00.702812   \n",
       "1   192.168.50.4              6145        17  2018-11-03 10:09:00.702862   \n",
       "2   192.168.50.4             37913        17  2018-11-03 10:09:00.702928   \n",
       "3   192.168.50.4             54270        17  2018-11-03 10:09:00.702976   \n",
       "4   192.168.50.4             39029        17  2018-11-03 10:09:00.703328   \n",
       "\n",
       "   Flow Duration  Total Fwd Packets  ...  Active Std  Active Max  Active Min  \\\n",
       "0             49                  2  ...         0.0         0.0         0.0   \n",
       "1              1                  2  ...         0.0         0.0         0.0   \n",
       "2              1                  2  ...         0.0         0.0         0.0   \n",
       "3              1                  2  ...         0.0         0.0         0.0   \n",
       "4              1                  2  ...         0.0         0.0         0.0   \n",
       "\n",
       "   Idle Mean  Idle Std  Idle Max  Idle Min  SimillarHTTP  Inbound    Label  \n",
       "0        0.0       0.0       0.0       0.0             0        1  NetBIOS  \n",
       "1        0.0       0.0       0.0       0.0             0        1  NetBIOS  \n",
       "2        0.0       0.0       0.0       0.0             0        1  NetBIOS  \n",
       "3        0.0       0.0       0.0       0.0             0        1  NetBIOS  \n",
       "4        0.0       0.0       0.0       0.0             0        1  NetBIOS  \n",
       "\n",
       "[5 rows x 88 columns]"
      ]
     },
     "execution_count": 6,
     "metadata": {},
     "output_type": "execute_result"
    }
   ],
   "source": [
    "df.head()"
   ]
  },
  {
   "cell_type": "code",
   "execution_count": 7,
   "id": "ebdefb4b",
   "metadata": {},
   "outputs": [
    {
     "data": {
      "text/plain": [
       "(140000, 88)"
      ]
     },
     "execution_count": 7,
     "metadata": {},
     "output_type": "execute_result"
    }
   ],
   "source": [
    "df.shape"
   ]
  },
  {
   "cell_type": "code",
   "execution_count": 8,
   "id": "a5a9f757",
   "metadata": {},
   "outputs": [
    {
     "data": {
      "text/plain": [
       "NetBIOS    39957\n",
       "MSSQL      30472\n",
       "Syn        20000\n",
       "UDP        19998\n",
       "Portmap    16201\n",
       "LDAP        8934\n",
       "BENIGN      4438\n",
       "Name: Label, dtype: int64"
      ]
     },
     "execution_count": 8,
     "metadata": {},
     "output_type": "execute_result"
    }
   ],
   "source": [
    "df['Label'].value_counts()"
   ]
  },
  {
   "cell_type": "code",
   "execution_count": 9,
   "id": "708af0a6",
   "metadata": {},
   "outputs": [
    {
     "data": {
      "image/png": "[encoded data removed]",
      "text/plain": [
       "<Figure size 864x576 with 1 Axes>"
      ]
     },
     "metadata": {
      "needs_background": "light"
     },
     "output_type": "display_data"
    }
   ],
   "source": [
    "# Data distribution visualization\n",
    "fig = plt.figure(figsize=(12,8))\n",
    "\n",
    "# type vs count\n",
    "ax1 = fig.add_subplot(221)\n",
    "df['Label'].value_counts().plot(kind='bar', ax=ax1)\n",
    "ax1.set_ylabel('Count')\n",
    "ax1.set_title('Frequency');"
   ]
  },
  {
   "cell_type": "code",
   "execution_count": 10,
   "id": "0c82ee9a",
   "metadata": {},
   "outputs": [
    {
     "name": "stdout",
     "output_type": "stream",
     "text": [
      "Feature Flow ID has 136780 different categories\n",
      "Feature Source IP has 216 different categories\n",
      "Feature Destination IP has 252 different categories\n",
      "Feature Timestamp has 139995 different categories\n",
      "Feature SimillarHTTP has 65 different categories\n",
      "Feature Label has 7 different categories\n"
     ]
    }
   ],
   "source": [
    "for feature in df.columns:\n",
    "    if df[feature].dtypes == 'object' :\n",
    "        print (\"Feature \" + feature + \" has \" + str(len(df[feature].unique())) + \" different categories\")"
   ]
  },
  {
   "cell_type": "code",
   "execution_count": 11,
   "id": "301d8651",
   "metadata": {},
   "outputs": [
    {
     "name": "stdout",
     "output_type": "stream",
     "text": [
      "['BENIGN', 'LDAP', 'MSSQL', 'NetBIOS', 'Portmap', 'Syn', 'UDP']\n"
     ]
    }
   ],
   "source": [
    "le = LabelEncoder()\n",
    "le.fit(df['Label'])\n",
    "LabelEncoder()\n",
    "print(list(le.classes_))"
   ]
  },
  {
   "cell_type": "code",
   "execution_count": 12,
   "id": "75f2749d",
   "metadata": {},
   "outputs": [],
   "source": [
    "df['nlabel'] = le.transform(df[\"Label\"]) "
   ]
  },
  {
   "cell_type": "code",
   "execution_count": 13,
   "id": "a0d09f9a",
   "metadata": {},
   "outputs": [],
   "source": [
    "# resampling the data with taking 1000 samples of each type\n",
    "df_0 = df[df['nlabel'] == 0]\n",
    "df_2 = df[df['nlabel'] == 2]\n",
    "df_3 = df[df['nlabel'] == 3]\n",
    "df_4 = df[df['nlabel'] == 4]\n",
    "df_5 = df[df['nlabel'] == 5]\n",
    "df_6 = df[df['nlabel'] == 6]\n",
    "\n",
    "n_samples=4400\n",
    "df_0_balanced = resample(df_0, replace=True, n_samples=n_samples, random_state=42)  \n",
    "df_2_balanced = resample(df_2, replace=True, n_samples=n_samples, random_state=42)\n",
    "df_3_balanced = resample(df_3, replace=True, n_samples=n_samples, random_state=42)\n",
    "df_4_balanced = resample(df_4, replace=True, n_samples=n_samples, random_state=42)\n",
    "df_5_balanced = resample(df_5, replace=True, n_samples=n_samples, random_state=42)\n",
    "df_6_balanced = resample(df_6, replace=True, n_samples=n_samples, random_state=42)\n",
    "\n",
    "#Combined back to a single dataframe\n",
    "df_balanced = pd.concat([df_0_balanced, \n",
    "                              df_2_balanced, df_3_balanced, \n",
    "                              df_4_balanced, df_5_balanced, df_6_balanced])"
   ]
  },
  {
   "cell_type": "code",
   "execution_count": 14,
   "id": "7ea89fb8",
   "metadata": {},
   "outputs": [
    {
     "name": "stdout",
     "output_type": "stream",
     "text": [
      "BENIGN     4400\n",
      "MSSQL      4400\n",
      "NetBIOS    4400\n",
      "Portmap    4400\n",
      "Syn        4400\n",
      "UDP        4400\n",
      "Name: Label, dtype: int64\n"
     ]
    }
   ],
   "source": [
    "print(df_balanced['Label'].value_counts())"
   ]
  },
  {
   "cell_type": "code",
   "execution_count": 15,
   "id": "eb338ca0",
   "metadata": {},
   "outputs": [
    {
     "data": {
      "text/html": [
       "<div>\n",
       "<style scoped>\n",
       "    .dataframe tbody tr th:only-of-type {\n",
       "        vertical-align: middle;\n",
       "    }\n",
       "\n",
       "    .dataframe tbody tr th {\n",
       "        vertical-align: top;\n",
       "    }\n",
       "\n",
       "    .dataframe thead th {\n",
       "        text-align: right;\n",
       "    }\n",
       "</style>\n",
       "<table border=\"1\" class=\"dataframe\">\n",
       "  <thead>\n",
       "    <tr style=\"text-align: right;\">\n",
       "      <th></th>\n",
       "      <th>Unnamed: 0</th>\n",
       "      <th>Flow ID</th>\n",
       "      <th>Source IP</th>\n",
       "      <th>Source Port</th>\n",
       "      <th>Destination IP</th>\n",
       "      <th>Destination Port</th>\n",
       "      <th>Protocol</th>\n",
       "      <th>Timestamp</th>\n",
       "      <th>Flow Duration</th>\n",
       "      <th>Total Fwd Packets</th>\n",
       "      <th>...</th>\n",
       "      <th>Active Max</th>\n",
       "      <th>Active Min</th>\n",
       "      <th>Idle Mean</th>\n",
       "      <th>Idle Std</th>\n",
       "      <th>Idle Max</th>\n",
       "      <th>Idle Min</th>\n",
       "      <th>SimillarHTTP</th>\n",
       "      <th>Inbound</th>\n",
       "      <th>Label</th>\n",
       "      <th>nlabel</th>\n",
       "    </tr>\n",
       "  </thead>\n",
       "  <tbody>\n",
       "    <tr>\n",
       "      <th>127989</th>\n",
       "      <td>84525</td>\n",
       "      <td>172.16.0.5-192.168.50.4-47089-20869-17</td>\n",
       "      <td>172.16.0.5</td>\n",
       "      <td>47089</td>\n",
       "      <td>192.168.50.4</td>\n",
       "      <td>20869</td>\n",
       "      <td>17</td>\n",
       "      <td>2018-11-03 11:01:44.645496</td>\n",
       "      <td>107816</td>\n",
       "      <td>4</td>\n",
       "      <td>...</td>\n",
       "      <td>0.0</td>\n",
       "      <td>0.0</td>\n",
       "      <td>0.0</td>\n",
       "      <td>0.000000</td>\n",
       "      <td>0.0</td>\n",
       "      <td>0.0</td>\n",
       "      <td>0</td>\n",
       "      <td>1</td>\n",
       "      <td>UDP</td>\n",
       "      <td>6</td>\n",
       "    </tr>\n",
       "    <tr>\n",
       "      <th>60762</th>\n",
       "      <td>44570</td>\n",
       "      <td>192.168.50.8-52.85.93.117-59719-80-6</td>\n",
       "      <td>192.168.50.8</td>\n",
       "      <td>59719</td>\n",
       "      <td>52.85.93.117</td>\n",
       "      <td>80</td>\n",
       "      <td>6</td>\n",
       "      <td>2018-11-03 09:38:08.586606</td>\n",
       "      <td>18921278</td>\n",
       "      <td>14</td>\n",
       "      <td>...</td>\n",
       "      <td>333655.0</td>\n",
       "      <td>38961.0</td>\n",
       "      <td>9274330.5</td>\n",
       "      <td>692657.054113</td>\n",
       "      <td>9764113.0</td>\n",
       "      <td>8784548.0</td>\n",
       "      <td>ocsp.sca1b.amazontrust.com/</td>\n",
       "      <td>0</td>\n",
       "      <td>BENIGN</td>\n",
       "      <td>0</td>\n",
       "    </tr>\n",
       "    <tr>\n",
       "      <th>54122</th>\n",
       "      <td>279938</td>\n",
       "      <td>172.16.0.5-192.168.50.4-851-17980-17</td>\n",
       "      <td>172.16.0.5</td>\n",
       "      <td>851</td>\n",
       "      <td>192.168.50.4</td>\n",
       "      <td>17980</td>\n",
       "      <td>17</td>\n",
       "      <td>2018-11-03 10:01:50.798880</td>\n",
       "      <td>1</td>\n",
       "      <td>2</td>\n",
       "      <td>...</td>\n",
       "      <td>0.0</td>\n",
       "      <td>0.0</td>\n",
       "      <td>0.0</td>\n",
       "      <td>0.000000</td>\n",
       "      <td>0.0</td>\n",
       "      <td>0.0</td>\n",
       "      <td>0</td>\n",
       "      <td>1</td>\n",
       "      <td>NetBIOS</td>\n",
       "      <td>3</td>\n",
       "    </tr>\n",
       "    <tr>\n",
       "      <th>93223</th>\n",
       "      <td>426474</td>\n",
       "      <td>172.16.0.5-192.168.50.4-43162-14359-6</td>\n",
       "      <td>172.16.0.5</td>\n",
       "      <td>43162</td>\n",
       "      <td>192.168.50.4</td>\n",
       "      <td>14359</td>\n",
       "      <td>6</td>\n",
       "      <td>2018-11-03 11:36:29.651090</td>\n",
       "      <td>3808639</td>\n",
       "      <td>4</td>\n",
       "      <td>...</td>\n",
       "      <td>0.0</td>\n",
       "      <td>0.0</td>\n",
       "      <td>0.0</td>\n",
       "      <td>0.000000</td>\n",
       "      <td>0.0</td>\n",
       "      <td>0.0</td>\n",
       "      <td>0</td>\n",
       "      <td>1</td>\n",
       "      <td>Syn</td>\n",
       "      <td>5</td>\n",
       "    </tr>\n",
       "    <tr>\n",
       "      <th>111979</th>\n",
       "      <td>67275</td>\n",
       "      <td>172.16.0.5-192.168.50.4-20332-24989-17</td>\n",
       "      <td>172.16.0.5</td>\n",
       "      <td>20332</td>\n",
       "      <td>192.168.50.4</td>\n",
       "      <td>24989</td>\n",
       "      <td>17</td>\n",
       "      <td>2018-11-03 10:42:58.255808</td>\n",
       "      <td>1</td>\n",
       "      <td>2</td>\n",
       "      <td>...</td>\n",
       "      <td>0.0</td>\n",
       "      <td>0.0</td>\n",
       "      <td>0.0</td>\n",
       "      <td>0.000000</td>\n",
       "      <td>0.0</td>\n",
       "      <td>0.0</td>\n",
       "      <td>0</td>\n",
       "      <td>1</td>\n",
       "      <td>MSSQL</td>\n",
       "      <td>2</td>\n",
       "    </tr>\n",
       "    <tr>\n",
       "      <th>139760</th>\n",
       "      <td>78931</td>\n",
       "      <td>172.16.0.5-192.168.50.4-56287-8145-17</td>\n",
       "      <td>172.16.0.5</td>\n",
       "      <td>56287</td>\n",
       "      <td>192.168.50.4</td>\n",
       "      <td>8145</td>\n",
       "      <td>17</td>\n",
       "      <td>2018-11-03 11:01:46.204648</td>\n",
       "      <td>106925</td>\n",
       "      <td>4</td>\n",
       "      <td>...</td>\n",
       "      <td>0.0</td>\n",
       "      <td>0.0</td>\n",
       "      <td>0.0</td>\n",
       "      <td>0.000000</td>\n",
       "      <td>0.0</td>\n",
       "      <td>0.0</td>\n",
       "      <td>0</td>\n",
       "      <td>1</td>\n",
       "      <td>UDP</td>\n",
       "      <td>6</td>\n",
       "    </tr>\n",
       "    <tr>\n",
       "      <th>4671</th>\n",
       "      <td>65550</td>\n",
       "      <td>172.16.0.5-192.168.50.4-601-7752-17</td>\n",
       "      <td>172.16.0.5</td>\n",
       "      <td>601</td>\n",
       "      <td>192.168.50.4</td>\n",
       "      <td>7752</td>\n",
       "      <td>17</td>\n",
       "      <td>2018-11-03 10:09:01.279999</td>\n",
       "      <td>1</td>\n",
       "      <td>2</td>\n",
       "      <td>...</td>\n",
       "      <td>0.0</td>\n",
       "      <td>0.0</td>\n",
       "      <td>0.0</td>\n",
       "      <td>0.000000</td>\n",
       "      <td>0.0</td>\n",
       "      <td>0.0</td>\n",
       "      <td>0</td>\n",
       "      <td>1</td>\n",
       "      <td>NetBIOS</td>\n",
       "      <td>3</td>\n",
       "    </tr>\n",
       "    <tr>\n",
       "      <th>42480</th>\n",
       "      <td>242775</td>\n",
       "      <td>172.16.0.5-192.168.50.4-551-26602-17</td>\n",
       "      <td>172.16.0.5</td>\n",
       "      <td>551</td>\n",
       "      <td>192.168.50.4</td>\n",
       "      <td>26602</td>\n",
       "      <td>17</td>\n",
       "      <td>2018-11-03 10:01:49.345221</td>\n",
       "      <td>1</td>\n",
       "      <td>2</td>\n",
       "      <td>...</td>\n",
       "      <td>0.0</td>\n",
       "      <td>0.0</td>\n",
       "      <td>0.0</td>\n",
       "      <td>0.000000</td>\n",
       "      <td>0.0</td>\n",
       "      <td>0.0</td>\n",
       "      <td>0</td>\n",
       "      <td>1</td>\n",
       "      <td>NetBIOS</td>\n",
       "      <td>3</td>\n",
       "    </tr>\n",
       "    <tr>\n",
       "      <th>71136</th>\n",
       "      <td>62300</td>\n",
       "      <td>172.16.0.5-192.168.50.4-648-4871-17</td>\n",
       "      <td>172.16.0.5</td>\n",
       "      <td>648</td>\n",
       "      <td>192.168.50.4</td>\n",
       "      <td>4871</td>\n",
       "      <td>17</td>\n",
       "      <td>2018-11-03 10:01:26.652734</td>\n",
       "      <td>46</td>\n",
       "      <td>2</td>\n",
       "      <td>...</td>\n",
       "      <td>0.0</td>\n",
       "      <td>0.0</td>\n",
       "      <td>0.0</td>\n",
       "      <td>0.000000</td>\n",
       "      <td>0.0</td>\n",
       "      <td>0.0</td>\n",
       "      <td>0</td>\n",
       "      <td>1</td>\n",
       "      <td>Portmap</td>\n",
       "      <td>4</td>\n",
       "    </tr>\n",
       "    <tr>\n",
       "      <th>63154</th>\n",
       "      <td>42122</td>\n",
       "      <td>172.16.0.5-192.168.50.4-50115-18620-17</td>\n",
       "      <td>172.16.0.5</td>\n",
       "      <td>50115</td>\n",
       "      <td>192.168.50.4</td>\n",
       "      <td>18620</td>\n",
       "      <td>17</td>\n",
       "      <td>2018-11-03 09:49:51.349623</td>\n",
       "      <td>3</td>\n",
       "      <td>2</td>\n",
       "      <td>...</td>\n",
       "      <td>0.0</td>\n",
       "      <td>0.0</td>\n",
       "      <td>0.0</td>\n",
       "      <td>0.000000</td>\n",
       "      <td>0.0</td>\n",
       "      <td>0.0</td>\n",
       "      <td>0</td>\n",
       "      <td>1</td>\n",
       "      <td>Portmap</td>\n",
       "      <td>4</td>\n",
       "    </tr>\n",
       "  </tbody>\n",
       "</table>\n",
       "<p>10 rows × 89 columns</p>\n",
       "</div>"
      ],
      "text/plain": [
       "        Unnamed: 0                                 Flow ID     Source IP  \\\n",
       "127989       84525  172.16.0.5-192.168.50.4-47089-20869-17    172.16.0.5   \n",
       "60762        44570    192.168.50.8-52.85.93.117-59719-80-6  192.168.50.8   \n",
       "54122       279938    172.16.0.5-192.168.50.4-851-17980-17    172.16.0.5   \n",
       "93223       426474   172.16.0.5-192.168.50.4-43162-14359-6    172.16.0.5   \n",
       "111979       67275  172.16.0.5-192.168.50.4-20332-24989-17    172.16.0.5   \n",
       "139760       78931   172.16.0.5-192.168.50.4-56287-8145-17    172.16.0.5   \n",
       "4671         65550     172.16.0.5-192.168.50.4-601-7752-17    172.16.0.5   \n",
       "42480       242775    172.16.0.5-192.168.50.4-551-26602-17    172.16.0.5   \n",
       "71136        62300     172.16.0.5-192.168.50.4-648-4871-17    172.16.0.5   \n",
       "63154        42122  172.16.0.5-192.168.50.4-50115-18620-17    172.16.0.5   \n",
       "\n",
       "        Source Port Destination IP  Destination Port  Protocol  \\\n",
       "127989        47089   192.168.50.4             20869        17   \n",
       "60762         59719   52.85.93.117                80         6   \n",
       "54122           851   192.168.50.4             17980        17   \n",
       "93223         43162   192.168.50.4             14359         6   \n",
       "111979        20332   192.168.50.4             24989        17   \n",
       "139760        56287   192.168.50.4              8145        17   \n",
       "4671            601   192.168.50.4              7752        17   \n",
       "42480           551   192.168.50.4             26602        17   \n",
       "71136           648   192.168.50.4              4871        17   \n",
       "63154         50115   192.168.50.4             18620        17   \n",
       "\n",
       "                         Timestamp  Flow Duration  Total Fwd Packets  ...  \\\n",
       "127989  2018-11-03 11:01:44.645496         107816                  4  ...   \n",
       "60762   2018-11-03 09:38:08.586606       18921278                 14  ...   \n",
       "54122   2018-11-03 10:01:50.798880              1                  2  ...   \n",
       "93223   2018-11-03 11:36:29.651090        3808639                  4  ...   \n",
       "111979  2018-11-03 10:42:58.255808              1                  2  ...   \n",
       "139760  2018-11-03 11:01:46.204648         106925                  4  ...   \n",
       "4671    2018-11-03 10:09:01.279999              1                  2  ...   \n",
       "42480   2018-11-03 10:01:49.345221              1                  2  ...   \n",
       "71136   2018-11-03 10:01:26.652734             46                  2  ...   \n",
       "63154   2018-11-03 09:49:51.349623              3                  2  ...   \n",
       "\n",
       "        Active Max  Active Min  Idle Mean       Idle Std   Idle Max  \\\n",
       "127989         0.0         0.0        0.0       0.000000        0.0   \n",
       "60762     333655.0     38961.0  9274330.5  692657.054113  9764113.0   \n",
       "54122          0.0         0.0        0.0       0.000000        0.0   \n",
       "93223          0.0         0.0        0.0       0.000000        0.0   \n",
       "111979         0.0         0.0        0.0       0.000000        0.0   \n",
       "139760         0.0         0.0        0.0       0.000000        0.0   \n",
       "4671           0.0         0.0        0.0       0.000000        0.0   \n",
       "42480          0.0         0.0        0.0       0.000000        0.0   \n",
       "71136          0.0         0.0        0.0       0.000000        0.0   \n",
       "63154          0.0         0.0        0.0       0.000000        0.0   \n",
       "\n",
       "         Idle Min                 SimillarHTTP  Inbound    Label  nlabel  \n",
       "127989        0.0                            0        1      UDP       6  \n",
       "60762   8784548.0  ocsp.sca1b.amazontrust.com/        0   BENIGN       0  \n",
       "54122         0.0                            0        1  NetBIOS       3  \n",
       "93223         0.0                            0        1      Syn       5  \n",
       "111979        0.0                            0        1    MSSQL       2  \n",
       "139760        0.0                            0        1      UDP       6  \n",
       "4671          0.0                            0        1  NetBIOS       3  \n",
       "42480         0.0                            0        1  NetBIOS       3  \n",
       "71136         0.0                            0        1  Portmap       4  \n",
       "63154         0.0                            0        1  Portmap       4  \n",
       "\n",
       "[10 rows x 89 columns]"
      ]
     },
     "execution_count": 15,
     "metadata": {},
     "output_type": "execute_result"
    }
   ],
   "source": [
    "df_balanced.sample(10)"
   ]
  },
  {
   "cell_type": "code",
   "execution_count": 16,
   "id": "3a30ac41",
   "metadata": {},
   "outputs": [],
   "source": [
    "cols_used = ['Flow Duration','Fwd Packet Length Max','Fwd Packet Length Min','Fwd Packet Length Std','Flow IAT Mean',\n",
    "             'Flow IAT Max','Fwd IAT Mean','Fwd IAT Max','Fwd Header Length','Fwd Packets/s','Min Packet Length',\n",
    "             'Max Packet Length','Packet Length Std','ACK Flag Count','Average Packet Size','Fwd Header Length.1',\n",
    "             'Subflow Fwd Bytes','Init_Win_bytes_forward','min_seg_size_forward','Label']"
   ]
  },
  {
   "cell_type": "code",
   "execution_count": 17,
   "id": "b61f6a5d",
   "metadata": {},
   "outputs": [],
   "source": [
    "X = df_balanced[['Flow Duration','Fwd Packet Length Max','Fwd Packet Length Min','Fwd Packet Length Std','Flow IAT Mean',\n",
    "             'Flow IAT Max','Fwd IAT Mean','Fwd IAT Max','Fwd Header Length','Fwd Packets/s','Min Packet Length',\n",
    "             'Max Packet Length','Packet Length Std','ACK Flag Count','Average Packet Size','Fwd Header Length.1',\n",
    "             'Subflow Fwd Bytes','Init_Win_bytes_forward','min_seg_size_forward']]"
   ]
  },
  {
   "cell_type": "code",
   "execution_count": 18,
   "id": "2a219292",
   "metadata": {},
   "outputs": [
    {
     "name": "stdout",
     "output_type": "stream",
     "text": [
      "<class 'pandas.core.frame.DataFrame'>\n",
      "Int64Index: 26400 entries, 60473 to 131950\n",
      "Data columns (total 19 columns):\n",
      " #   Column                  Non-Null Count  Dtype  \n",
      "---  ------                  --------------  -----  \n",
      " 0   Flow Duration           26400 non-null  int64  \n",
      " 1   Fwd Packet Length Max   26400 non-null  float64\n",
      " 2   Fwd Packet Length Min   26400 non-null  float64\n",
      " 3   Fwd Packet Length Std   26400 non-null  float64\n",
      " 4   Flow IAT Mean           26400 non-null  float64\n",
      " 5   Flow IAT Max            26400 non-null  float64\n",
      " 6   Fwd IAT Mean            26400 non-null  float64\n",
      " 7   Fwd IAT Max             26400 non-null  float64\n",
      " 8   Fwd Header Length       26400 non-null  int64  \n",
      " 9   Fwd Packets/s           26400 non-null  float64\n",
      " 10  Min Packet Length       26400 non-null  float64\n",
      " 11  Max Packet Length       26400 non-null  float64\n",
      " 12  Packet Length Std       26400 non-null  float64\n",
      " 13  ACK Flag Count          26400 non-null  int64  \n",
      " 14  Average Packet Size     26400 non-null  float64\n",
      " 15  Fwd Header Length.1     26400 non-null  int64  \n",
      " 16  Subflow Fwd Bytes       26400 non-null  int64  \n",
      " 17  Init_Win_bytes_forward  26400 non-null  int64  \n",
      " 18  min_seg_size_forward    26400 non-null  int64  \n",
      "dtypes: float64(12), int64(7)\n",
      "memory usage: 4.0 MB\n"
     ]
    }
   ],
   "source": [
    "X.info()"
   ]
  },
  {
   "cell_type": "code",
   "execution_count": null,
   "id": "408e39ad",
   "metadata": {},
   "outputs": [],
   "source": []
  },
  {
   "cell_type": "code",
   "execution_count": null,
   "id": "43720734",
   "metadata": {},
   "outputs": [],
   "source": []
  },
  {
   "cell_type": "code",
   "execution_count": 19,
   "id": "bfe94c71",
   "metadata": {},
   "outputs": [
    {
     "data": {
      "text/html": [
       "<div>\n",
       "<style scoped>\n",
       "    .dataframe tbody tr th:only-of-type {\n",
       "        vertical-align: middle;\n",
       "    }\n",
       "\n",
       "    .dataframe tbody tr th {\n",
       "        vertical-align: top;\n",
       "    }\n",
       "\n",
       "    .dataframe thead th {\n",
       "        text-align: right;\n",
       "    }\n",
       "</style>\n",
       "<table border=\"1\" class=\"dataframe\">\n",
       "  <thead>\n",
       "    <tr style=\"text-align: right;\">\n",
       "      <th></th>\n",
       "      <th>Flow Duration</th>\n",
       "      <th>Fwd Packet Length Max</th>\n",
       "      <th>Fwd Packet Length Min</th>\n",
       "      <th>Fwd Packet Length Std</th>\n",
       "      <th>Flow IAT Mean</th>\n",
       "      <th>Flow IAT Max</th>\n",
       "      <th>Fwd IAT Mean</th>\n",
       "      <th>Fwd IAT Max</th>\n",
       "      <th>Fwd Header Length</th>\n",
       "      <th>Fwd Packets/s</th>\n",
       "      <th>Min Packet Length</th>\n",
       "      <th>Max Packet Length</th>\n",
       "      <th>Packet Length Std</th>\n",
       "      <th>ACK Flag Count</th>\n",
       "      <th>Average Packet Size</th>\n",
       "      <th>Fwd Header Length.1</th>\n",
       "      <th>Subflow Fwd Bytes</th>\n",
       "      <th>Init_Win_bytes_forward</th>\n",
       "      <th>min_seg_size_forward</th>\n",
       "    </tr>\n",
       "  </thead>\n",
       "  <tbody>\n",
       "    <tr>\n",
       "      <th>60473</th>\n",
       "      <td>962454</td>\n",
       "      <td>425.0</td>\n",
       "      <td>0.0</td>\n",
       "      <td>205.639652</td>\n",
       "      <td>120306.750000</td>\n",
       "      <td>890182.0</td>\n",
       "      <td>160409.000000</td>\n",
       "      <td>890182.0</td>\n",
       "      <td>164</td>\n",
       "      <td>7.273075e+00</td>\n",
       "      <td>0.0</td>\n",
       "      <td>425.0</td>\n",
       "      <td>178.268088</td>\n",
       "      <td>1</td>\n",
       "      <td>96.444444</td>\n",
       "      <td>164</td>\n",
       "      <td>868</td>\n",
       "      <td>8192</td>\n",
       "      <td>20</td>\n",
       "    </tr>\n",
       "    <tr>\n",
       "      <th>64564</th>\n",
       "      <td>48011</td>\n",
       "      <td>90.0</td>\n",
       "      <td>90.0</td>\n",
       "      <td>0.000000</td>\n",
       "      <td>16003.666667</td>\n",
       "      <td>48005.0</td>\n",
       "      <td>3.000000</td>\n",
       "      <td>3.0</td>\n",
       "      <td>40</td>\n",
       "      <td>4.165712e+01</td>\n",
       "      <td>90.0</td>\n",
       "      <td>106.0</td>\n",
       "      <td>8.763561</td>\n",
       "      <td>0</td>\n",
       "      <td>120.500000</td>\n",
       "      <td>40</td>\n",
       "      <td>180</td>\n",
       "      <td>-1</td>\n",
       "      <td>20</td>\n",
       "    </tr>\n",
       "    <tr>\n",
       "      <th>63841</th>\n",
       "      <td>39454</td>\n",
       "      <td>0.0</td>\n",
       "      <td>0.0</td>\n",
       "      <td>0.000000</td>\n",
       "      <td>13151.333333</td>\n",
       "      <td>39145.0</td>\n",
       "      <td>0.000000</td>\n",
       "      <td>0.0</td>\n",
       "      <td>32</td>\n",
       "      <td>2.534597e+01</td>\n",
       "      <td>0.0</td>\n",
       "      <td>0.0</td>\n",
       "      <td>0.000000</td>\n",
       "      <td>0</td>\n",
       "      <td>0.000000</td>\n",
       "      <td>32</td>\n",
       "      <td>0</td>\n",
       "      <td>2320</td>\n",
       "      <td>32</td>\n",
       "    </tr>\n",
       "    <tr>\n",
       "      <th>60021</th>\n",
       "      <td>21103</td>\n",
       "      <td>35.0</td>\n",
       "      <td>35.0</td>\n",
       "      <td>0.000000</td>\n",
       "      <td>7034.333333</td>\n",
       "      <td>21097.0</td>\n",
       "      <td>3.000000</td>\n",
       "      <td>3.0</td>\n",
       "      <td>40</td>\n",
       "      <td>9.477325e+01</td>\n",
       "      <td>35.0</td>\n",
       "      <td>143.0</td>\n",
       "      <td>59.154036</td>\n",
       "      <td>0</td>\n",
       "      <td>97.750000</td>\n",
       "      <td>40</td>\n",
       "      <td>70</td>\n",
       "      <td>-1</td>\n",
       "      <td>20</td>\n",
       "    </tr>\n",
       "    <tr>\n",
       "      <th>119457</th>\n",
       "      <td>16166</td>\n",
       "      <td>0.0</td>\n",
       "      <td>0.0</td>\n",
       "      <td>0.000000</td>\n",
       "      <td>5388.666667</td>\n",
       "      <td>16162.0</td>\n",
       "      <td>0.000000</td>\n",
       "      <td>0.0</td>\n",
       "      <td>32</td>\n",
       "      <td>6.185822e+01</td>\n",
       "      <td>0.0</td>\n",
       "      <td>31.0</td>\n",
       "      <td>16.979399</td>\n",
       "      <td>0</td>\n",
       "      <td>15.500000</td>\n",
       "      <td>32</td>\n",
       "      <td>0</td>\n",
       "      <td>247</td>\n",
       "      <td>32</td>\n",
       "    </tr>\n",
       "    <tr>\n",
       "      <th>...</th>\n",
       "      <td>...</td>\n",
       "      <td>...</td>\n",
       "      <td>...</td>\n",
       "      <td>...</td>\n",
       "      <td>...</td>\n",
       "      <td>...</td>\n",
       "      <td>...</td>\n",
       "      <td>...</td>\n",
       "      <td>...</td>\n",
       "      <td>...</td>\n",
       "      <td>...</td>\n",
       "      <td>...</td>\n",
       "      <td>...</td>\n",
       "      <td>...</td>\n",
       "      <td>...</td>\n",
       "      <td>...</td>\n",
       "      <td>...</td>\n",
       "      <td>...</td>\n",
       "      <td>...</td>\n",
       "    </tr>\n",
       "    <tr>\n",
       "      <th>125447</th>\n",
       "      <td>1</td>\n",
       "      <td>375.0</td>\n",
       "      <td>375.0</td>\n",
       "      <td>0.000000</td>\n",
       "      <td>1.000000</td>\n",
       "      <td>1.0</td>\n",
       "      <td>1.000000</td>\n",
       "      <td>1.0</td>\n",
       "      <td>16</td>\n",
       "      <td>2.000000e+06</td>\n",
       "      <td>375.0</td>\n",
       "      <td>375.0</td>\n",
       "      <td>0.000000</td>\n",
       "      <td>0</td>\n",
       "      <td>562.500000</td>\n",
       "      <td>16</td>\n",
       "      <td>750</td>\n",
       "      <td>-1</td>\n",
       "      <td>8</td>\n",
       "    </tr>\n",
       "    <tr>\n",
       "      <th>126129</th>\n",
       "      <td>220793</td>\n",
       "      <td>393.0</td>\n",
       "      <td>321.0</td>\n",
       "      <td>35.088460</td>\n",
       "      <td>44158.600000</td>\n",
       "      <td>112452.0</td>\n",
       "      <td>44158.600000</td>\n",
       "      <td>112452.0</td>\n",
       "      <td>48</td>\n",
       "      <td>2.717477e+01</td>\n",
       "      <td>321.0</td>\n",
       "      <td>393.0</td>\n",
       "      <td>33.617597</td>\n",
       "      <td>0</td>\n",
       "      <td>401.500000</td>\n",
       "      <td>48</td>\n",
       "      <td>2088</td>\n",
       "      <td>-1</td>\n",
       "      <td>8</td>\n",
       "    </tr>\n",
       "    <tr>\n",
       "      <th>125850</th>\n",
       "      <td>46</td>\n",
       "      <td>401.0</td>\n",
       "      <td>401.0</td>\n",
       "      <td>0.000000</td>\n",
       "      <td>46.000000</td>\n",
       "      <td>46.0</td>\n",
       "      <td>46.000000</td>\n",
       "      <td>46.0</td>\n",
       "      <td>16</td>\n",
       "      <td>4.347826e+04</td>\n",
       "      <td>401.0</td>\n",
       "      <td>401.0</td>\n",
       "      <td>0.000000</td>\n",
       "      <td>0</td>\n",
       "      <td>601.500000</td>\n",
       "      <td>16</td>\n",
       "      <td>802</td>\n",
       "      <td>-1</td>\n",
       "      <td>8</td>\n",
       "    </tr>\n",
       "    <tr>\n",
       "      <th>127446</th>\n",
       "      <td>1</td>\n",
       "      <td>383.0</td>\n",
       "      <td>383.0</td>\n",
       "      <td>0.000000</td>\n",
       "      <td>1.000000</td>\n",
       "      <td>1.0</td>\n",
       "      <td>1.000000</td>\n",
       "      <td>1.0</td>\n",
       "      <td>16</td>\n",
       "      <td>2.000000e+06</td>\n",
       "      <td>383.0</td>\n",
       "      <td>383.0</td>\n",
       "      <td>0.000000</td>\n",
       "      <td>0</td>\n",
       "      <td>574.500000</td>\n",
       "      <td>16</td>\n",
       "      <td>766</td>\n",
       "      <td>-1</td>\n",
       "      <td>8</td>\n",
       "    </tr>\n",
       "    <tr>\n",
       "      <th>131950</th>\n",
       "      <td>106166</td>\n",
       "      <td>369.0</td>\n",
       "      <td>330.0</td>\n",
       "      <td>22.516660</td>\n",
       "      <td>35388.666667</td>\n",
       "      <td>106164.0</td>\n",
       "      <td>35388.666667</td>\n",
       "      <td>106164.0</td>\n",
       "      <td>32</td>\n",
       "      <td>3.767685e+01</td>\n",
       "      <td>330.0</td>\n",
       "      <td>369.0</td>\n",
       "      <td>21.361180</td>\n",
       "      <td>0</td>\n",
       "      <td>432.000000</td>\n",
       "      <td>32</td>\n",
       "      <td>1398</td>\n",
       "      <td>-1</td>\n",
       "      <td>8</td>\n",
       "    </tr>\n",
       "  </tbody>\n",
       "</table>\n",
       "<p>26400 rows × 19 columns</p>\n",
       "</div>"
      ],
      "text/plain": [
       "        Flow Duration  Fwd Packet Length Max  Fwd Packet Length Min  \\\n",
       "60473          962454                  425.0                    0.0   \n",
       "64564           48011                   90.0                   90.0   \n",
       "63841           39454                    0.0                    0.0   \n",
       "60021           21103                   35.0                   35.0   \n",
       "119457          16166                    0.0                    0.0   \n",
       "...               ...                    ...                    ...   \n",
       "125447              1                  375.0                  375.0   \n",
       "126129         220793                  393.0                  321.0   \n",
       "125850             46                  401.0                  401.0   \n",
       "127446              1                  383.0                  383.0   \n",
       "131950         106166                  369.0                  330.0   \n",
       "\n",
       "        Fwd Packet Length Std  Flow IAT Mean  Flow IAT Max   Fwd IAT Mean  \\\n",
       "60473              205.639652  120306.750000      890182.0  160409.000000   \n",
       "64564                0.000000   16003.666667       48005.0       3.000000   \n",
       "63841                0.000000   13151.333333       39145.0       0.000000   \n",
       "60021                0.000000    7034.333333       21097.0       3.000000   \n",
       "119457               0.000000    5388.666667       16162.0       0.000000   \n",
       "...                       ...            ...           ...            ...   \n",
       "125447               0.000000       1.000000           1.0       1.000000   \n",
       "126129              35.088460   44158.600000      112452.0   44158.600000   \n",
       "125850               0.000000      46.000000          46.0      46.000000   \n",
       "127446               0.000000       1.000000           1.0       1.000000   \n",
       "131950              22.516660   35388.666667      106164.0   35388.666667   \n",
       "\n",
       "        Fwd IAT Max  Fwd Header Length  Fwd Packets/s  Min Packet Length  \\\n",
       "60473      890182.0                164   7.273075e+00                0.0   \n",
       "64564           3.0                 40   4.165712e+01               90.0   \n",
       "63841           0.0                 32   2.534597e+01                0.0   \n",
       "60021           3.0                 40   9.477325e+01               35.0   \n",
       "119457          0.0                 32   6.185822e+01                0.0   \n",
       "...             ...                ...            ...                ...   \n",
       "125447          1.0                 16   2.000000e+06              375.0   \n",
       "126129     112452.0                 48   2.717477e+01              321.0   \n",
       "125850         46.0                 16   4.347826e+04              401.0   \n",
       "127446          1.0                 16   2.000000e+06              383.0   \n",
       "131950     106164.0                 32   3.767685e+01              330.0   \n",
       "\n",
       "        Max Packet Length  Packet Length Std  ACK Flag Count  \\\n",
       "60473               425.0         178.268088               1   \n",
       "64564               106.0           8.763561               0   \n",
       "63841                 0.0           0.000000               0   \n",
       "60021               143.0          59.154036               0   \n",
       "119457               31.0          16.979399               0   \n",
       "...                   ...                ...             ...   \n",
       "125447              375.0           0.000000               0   \n",
       "126129              393.0          33.617597               0   \n",
       "125850              401.0           0.000000               0   \n",
       "127446              383.0           0.000000               0   \n",
       "131950              369.0          21.361180               0   \n",
       "\n",
       "        Average Packet Size  Fwd Header Length.1  Subflow Fwd Bytes  \\\n",
       "60473             96.444444                  164                868   \n",
       "64564            120.500000                   40                180   \n",
       "63841              0.000000                   32                  0   \n",
       "60021             97.750000                   40                 70   \n",
       "119457            15.500000                   32                  0   \n",
       "...                     ...                  ...                ...   \n",
       "125447           562.500000                   16                750   \n",
       "126129           401.500000                   48               2088   \n",
       "125850           601.500000                   16                802   \n",
       "127446           574.500000                   16                766   \n",
       "131950           432.000000                   32               1398   \n",
       "\n",
       "        Init_Win_bytes_forward  min_seg_size_forward  \n",
       "60473                     8192                    20  \n",
       "64564                       -1                    20  \n",
       "63841                     2320                    32  \n",
       "60021                       -1                    20  \n",
       "119457                     247                    32  \n",
       "...                        ...                   ...  \n",
       "125447                      -1                     8  \n",
       "126129                      -1                     8  \n",
       "125850                      -1                     8  \n",
       "127446                      -1                     8  \n",
       "131950                      -1                     8  \n",
       "\n",
       "[26400 rows x 19 columns]"
      ]
     },
     "execution_count": 19,
     "metadata": {},
     "output_type": "execute_result"
    }
   ],
   "source": [
    "X.dropna()"
   ]
  },
  {
   "cell_type": "code",
   "execution_count": 20,
   "id": "5717dfc4",
   "metadata": {},
   "outputs": [],
   "source": [
    "where_are_NaNs = np.isnan(X)"
   ]
  },
  {
   "cell_type": "code",
   "execution_count": 21,
   "id": "1675ccea",
   "metadata": {},
   "outputs": [
    {
     "data": {
      "text/plain": [
       "Flow Duration             0\n",
       "Fwd Packet Length Max     0\n",
       "Fwd Packet Length Min     0\n",
       "Fwd Packet Length Std     0\n",
       "Flow IAT Mean             0\n",
       "Flow IAT Max              0\n",
       "Fwd IAT Mean              0\n",
       "Fwd IAT Max               0\n",
       "Fwd Header Length         0\n",
       "Fwd Packets/s             0\n",
       "Min Packet Length         0\n",
       "Max Packet Length         0\n",
       "Packet Length Std         0\n",
       "ACK Flag Count            0\n",
       "Average Packet Size       0\n",
       "Fwd Header Length.1       0\n",
       "Subflow Fwd Bytes         0\n",
       "Init_Win_bytes_forward    0\n",
       "min_seg_size_forward      0\n",
       "dtype: int64"
      ]
     },
     "execution_count": 21,
     "metadata": {},
     "output_type": "execute_result"
    }
   ],
   "source": [
    "X.isnull().sum()"
   ]
  },
  {
   "cell_type": "code",
   "execution_count": 22,
   "id": "b0a67151",
   "metadata": {},
   "outputs": [],
   "source": [
    "Y = df_balanced['nlabel']"
   ]
  },
  {
   "cell_type": "markdown",
   "id": "b344e54a",
   "metadata": {},
   "source": [
    "# Building Models"
   ]
  },
  {
   "cell_type": "code",
   "execution_count": 23,
   "id": "ad5b15bc",
   "metadata": {},
   "outputs": [],
   "source": [
    "X_train, X_test, y_train, y_test = train_test_split(X, Y, test_size=0.2, random_state=101)"
   ]
  },
  {
   "cell_type": "code",
   "execution_count": 24,
   "id": "d8727478",
   "metadata": {},
   "outputs": [
    {
     "name": "stdout",
     "output_type": "stream",
     "text": [
      "(21120, 19) (5280, 19)\n"
     ]
    }
   ],
   "source": [
    "print(X_train.shape, X_test.shape)"
   ]
  },
  {
   "cell_type": "code",
   "execution_count": 25,
   "id": "6596c7f2",
   "metadata": {},
   "outputs": [],
   "source": [
    "Classifier_accuracy = []"
   ]
  },
  {
   "cell_type": "code",
   "execution_count": 34,
   "id": "a383facd",
   "metadata": {},
   "outputs": [
    {
     "name": "stdout",
     "output_type": "stream",
     "text": [
      "Accuracy of KNN Classifier : 92.65\n"
     ]
    }
   ],
   "source": [
    "knn_clf = KNeighborsClassifier(n_neighbors=5)\n",
    "knn_clf.fit(X_train, y_train)\n",
    "y_pred = knn_clf.predict(X_test)\n",
    "accuracy = metrics.accuracy_score(y_test, y_pred)\n",
    "Classifier_accuracy.append(accuracy*100)\n",
    "print(\"Accuracy of KNN Classifier : %.2f\" % (accuracy*100))"
   ]
  },
  {
   "cell_type": "code",
   "execution_count": 35,
   "id": "fa458386",
   "metadata": {},
   "outputs": [
    {
     "name": "stdout",
     "output_type": "stream",
     "text": [
      "Accuracy of SVM Classifier : 29.07\n"
     ]
    }
   ],
   "source": [
    "svc_clf = SVC(kernel='sigmoid',gamma='auto') \n",
    "svc_clf.fit(X_train,y_train)\n",
    "y_pred = svc_clf.predict(X_test)\n",
    "accuracy = metrics.accuracy_score(y_test, y_pred)\n",
    "Classifier_accuracy.append(accuracy*100)\n",
    "print(\"Accuracy of SVM Classifier : %.2f\" % (accuracy*100) )"
   ]
  },
  {
   "cell_type": "code",
   "execution_count": 36,
   "id": "136810a5",
   "metadata": {},
   "outputs": [
    {
     "name": "stdout",
     "output_type": "stream",
     "text": [
      "Accuracy of Decision Tree Classifier : 94.26\n"
     ]
    }
   ],
   "source": [
    "dt_clf = DecisionTreeClassifier()\n",
    "dt_clf.fit(X_train,y_train)\n",
    "y_pred = dt_clf.predict(X_test)\n",
    "accuracy = metrics.accuracy_score(y_test, y_pred)\n",
    "Classifier_accuracy.append(accuracy*100)\n",
    "print(\"Accuracy of Decision Tree Classifier : %.2f\" % (accuracy*100))"
   ]
  },
  {
   "cell_type": "code",
   "execution_count": 37,
   "id": "e3527fa8",
   "metadata": {},
   "outputs": [
    {
     "name": "stderr",
     "output_type": "stream",
     "text": [
      "C:\\Users\\nikhi\\anaconda3\\lib\\site-packages\\sklearn\\discriminant_analysis.py:808: UserWarning: Variables are collinear\n",
      "  warnings.warn(\"Variables are collinear\")\n"
     ]
    },
    {
     "name": "stdout",
     "output_type": "stream",
     "text": [
      "Accuracy of QDA Classifier : 17.01\n"
     ]
    },
    {
     "name": "stderr",
     "output_type": "stream",
     "text": [
      "C:\\Users\\nikhi\\anaconda3\\lib\\site-packages\\sklearn\\discriminant_analysis.py:833: RuntimeWarning: divide by zero encountered in power\n",
      "  X2 = np.dot(Xm, R * (S ** (-0.5)))\n",
      "C:\\Users\\nikhi\\anaconda3\\lib\\site-packages\\sklearn\\discriminant_analysis.py:833: RuntimeWarning: invalid value encountered in multiply\n",
      "  X2 = np.dot(Xm, R * (S ** (-0.5)))\n",
      "C:\\Users\\nikhi\\anaconda3\\lib\\site-packages\\sklearn\\discriminant_analysis.py:836: RuntimeWarning: divide by zero encountered in log\n",
      "  u = np.asarray([np.sum(np.log(s)) for s in self.scalings_])\n"
     ]
    }
   ],
   "source": [
    "qda_clf=QuadraticDiscriminantAnalysis()\n",
    "qda_clf.fit(X_train,y_train)\n",
    "y_pred=qda_clf.predict(X_test)\n",
    "accuracy = metrics.accuracy_score(y_test, y_pred)\n",
    "Classifier_accuracy.append(accuracy*100)\n",
    "print(\"Accuracy of QDA Classifier : %.2f\" % (accuracy*100))"
   ]
  },
  {
   "cell_type": "code",
   "execution_count": 38,
   "id": "fb377746",
   "metadata": {},
   "outputs": [
    {
     "name": "stdout",
     "output_type": "stream",
     "text": [
      "Accuracy of SGD Classifier : 28.88\n"
     ]
    }
   ],
   "source": [
    "sgd_clf=SGDClassifier(loss=\"hinge\", penalty=\"l2\")\n",
    "sgd_clf.fit(X_train,y_train)\n",
    "y_pred=sgd_clf.predict(X_test)\n",
    "accuracy = metrics.accuracy_score(y_test, y_pred)\n",
    "Classifier_accuracy.append(accuracy*100)\n",
    "print(\"Accuracy of SGD Classifier : %.2f\" % (accuracy*100))"
   ]
  },
  {
   "cell_type": "code",
   "execution_count": 39,
   "id": "423c888e",
   "metadata": {},
   "outputs": [
    {
     "name": "stdout",
     "output_type": "stream",
     "text": [
      "Accuracy of Logistic Regression Classifier : 33.69\n"
     ]
    },
    {
     "name": "stderr",
     "output_type": "stream",
     "text": [
      "C:\\Users\\nikhi\\anaconda3\\lib\\site-packages\\sklearn\\linear_model\\_logistic.py:765: ConvergenceWarning: lbfgs failed to converge (status=1):\n",
      "STOP: TOTAL NO. of ITERATIONS REACHED LIMIT.\n",
      "\n",
      "Increase the number of iterations (max_iter) or scale the data as shown in:\n",
      "    https://scikit-learn.org/stable/modules/preprocessing.html\n",
      "Please also refer to the documentation for alternative solver options:\n",
      "    https://scikit-learn.org/stable/modules/linear_model.html#logistic-regression\n",
      "  extra_warning_msg=_LOGISTIC_SOLVER_CONVERGENCE_MSG)\n"
     ]
    }
   ],
   "source": [
    "lr_clf = LogisticRegression()\n",
    "lr_clf.fit(X_train,y_train)\n",
    "y_pred=lr_clf.predict(X_test)\n",
    "accuracy = metrics.accuracy_score(y_test, y_pred)\n",
    "Classifier_accuracy.append(accuracy*100)\n",
    "print(\"Accuracy of Logistic Regression Classifier : %.2f\" % (accuracy*100))"
   ]
  },
  {
   "cell_type": "code",
   "execution_count": 40,
   "id": "920b2b8e",
   "metadata": {},
   "outputs": [
    {
     "name": "stdout",
     "output_type": "stream",
     "text": [
      "Accuracy of XGBoost Classifier : 94.05\n"
     ]
    }
   ],
   "source": [
    "xgb_clf=xgb.XGBClassifier()\n",
    "xgb_clf.fit(X_train,y_train)\n",
    "y_pred=xgb_clf.predict(X_test)\n",
    "accuracy = metrics.accuracy_score(y_test, y_pred)\n",
    "Classifier_accuracy.append(accuracy*100)\n",
    "print(\"Accuracy of XGBoost Classifier : %.2f\" % (accuracy*100))"
   ]
  },
  {
   "cell_type": "code",
   "execution_count": null,
   "id": "a6a35be1",
   "metadata": {},
   "outputs": [],
   "source": []
  },
  {
   "cell_type": "markdown",
   "id": "00cf983f",
   "metadata": {},
   "source": [
    "# Using Ensemble Learning"
   ]
  },
  {
   "cell_type": "code",
   "execution_count": 42,
   "id": "1c8084fc",
   "metadata": {},
   "outputs": [],
   "source": [
    "train_x,val_x,train_y,val_y = train_test_split(X_train,y_train,stratify=y_train,test_size=0.2,random_state=0)"
   ]
  },
  {
   "cell_type": "code",
   "execution_count": 43,
   "id": "940acb5d",
   "metadata": {},
   "outputs": [
    {
     "name": "stdout",
     "output_type": "stream",
     "text": [
      "(16896, 19) (4224, 19)\n"
     ]
    }
   ],
   "source": [
    "print(train_x.shape,val_x.shape)"
   ]
  },
  {
   "cell_type": "code",
   "execution_count": null,
   "id": "8b2167c2",
   "metadata": {},
   "outputs": [],
   "source": []
  },
  {
   "cell_type": "code",
   "execution_count": 45,
   "id": "8e8e0f9b",
   "metadata": {},
   "outputs": [],
   "source": [
    "model1 = xgb.XGBClassifier()\n",
    "model1.fit(train_x,train_y)\n",
    "y_val_pred1=model1.predict(val_x)\n",
    "y_val_pred1 = pd.DataFrame(y_val_pred1)\n",
    "y_test_pred1 = model1.predict(X_test)\n",
    "y_test_pred1 = pd.DataFrame(y_test_pred1)"
   ]
  },
  {
   "cell_type": "code",
   "execution_count": 46,
   "id": "498b96ef",
   "metadata": {},
   "outputs": [],
   "source": [
    "model2 = DecisionTreeClassifier()\n",
    "model2.fit(train_x,train_y)\n",
    "y_val_pred2=model2.predict(val_x)\n",
    "y_val_pred2 = pd.DataFrame(y_val_pred2)\n",
    "y_test_pred2 = model2.predict(X_test)\n",
    "y_test_pred2 = pd.DataFrame(y_test_pred2)"
   ]
  },
  {
   "cell_type": "code",
   "execution_count": 47,
   "id": "d9f11841",
   "metadata": {},
   "outputs": [],
   "source": [
    "model3 = KNeighborsClassifier(n_neighbors=5)\n",
    "model3.fit(train_x,train_y)\n",
    "y_val_pred3=model3.predict(val_x)\n",
    "y_val_pred3 = pd.DataFrame(y_val_pred3)\n",
    "y_test_pred3 = model3.predict(X_test)\n",
    "y_test_pred3 = pd.DataFrame(y_test_pred3)"
   ]
  },
  {
   "cell_type": "code",
   "execution_count": 48,
   "id": "f5fe33b9",
   "metadata": {},
   "outputs": [],
   "source": [
    "estimator_list = [\n",
    "    ('knn_clf',knn_clf),\n",
    "    ('xgb_clf',xgb_clf),\n",
    "    ('dt_clf',dt_clf) ]\n",
    "\n",
    "stack_model = StackingClassifier(\n",
    "    estimators=estimator_list, final_estimator=xgb.XGBClassifier()\n",
    ")"
   ]
  },
  {
   "cell_type": "code",
   "execution_count": 49,
   "id": "29734053",
   "metadata": {},
   "outputs": [
    {
     "data": {
      "text/plain": [
       "StackingClassifier(estimators=[('knn_clf', KNeighborsClassifier()),\n",
       "                               ('xgb_clf',\n",
       "                                XGBClassifier(base_score=0.5, booster='gbtree',\n",
       "                                              colsample_bylevel=1,\n",
       "                                              colsample_bynode=1,\n",
       "                                              colsample_bytree=1, gamma=0,\n",
       "                                              gpu_id=-1, importance_type='gain',\n",
       "                                              interaction_constraints='',\n",
       "                                              learning_rate=0.300000012,\n",
       "                                              max_delta_step=0, max_depth=6,\n",
       "                                              min_child_weight=1, missing=nan,\n",
       "                                              monotone_constr...\n",
       "                                                 importance_type='gain',\n",
       "                                                 interaction_constraints=None,\n",
       "                                                 learning_rate=None,\n",
       "                                                 max_delta_step=None,\n",
       "                                                 max_depth=None,\n",
       "                                                 min_child_weight=None,\n",
       "                                                 missing=nan,\n",
       "                                                 monotone_constraints=None,\n",
       "                                                 n_estimators=100, n_jobs=None,\n",
       "                                                 num_parallel_tree=None,\n",
       "                                                 random_state=None,\n",
       "                                                 reg_alpha=None,\n",
       "                                                 reg_lambda=None,\n",
       "                                                 scale_pos_weight=None,\n",
       "                                                 subsample=None,\n",
       "                                                 tree_method=None,\n",
       "                                                 validate_parameters=None,\n",
       "                                                 verbosity=None))"
      ]
     },
     "execution_count": 49,
     "metadata": {},
     "output_type": "execute_result"
    }
   ],
   "source": [
    "stack_model.fit(X_train, y_train)"
   ]
  },
  {
   "cell_type": "code",
   "execution_count": 50,
   "id": "730d2ca8",
   "metadata": {},
   "outputs": [],
   "source": [
    "y_test_pred = stack_model.predict(X_test)"
   ]
  },
  {
   "cell_type": "code",
   "execution_count": 51,
   "id": "0d116013",
   "metadata": {},
   "outputs": [],
   "source": [
    "stack_model_test_accuracy = accuracy_score(y_test, y_test_pred)"
   ]
  },
  {
   "cell_type": "code",
   "execution_count": 52,
   "id": "e8b6f75d",
   "metadata": {},
   "outputs": [
    {
     "data": {
      "text/plain": [
       "94.0909090909091"
      ]
     },
     "execution_count": 52,
     "metadata": {},
     "output_type": "execute_result"
    }
   ],
   "source": [
    "stack_model_test_accuracy*100"
   ]
  },
  {
   "cell_type": "code",
   "execution_count": 53,
   "id": "17741276",
   "metadata": {},
   "outputs": [],
   "source": [
    "stack_model2 = StackingClassifier(\n",
    "    estimators=estimator_list, final_estimator=DecisionTreeClassifier()\n",
    ")"
   ]
  },
  {
   "cell_type": "code",
   "execution_count": 54,
   "id": "6c20757b",
   "metadata": {},
   "outputs": [
    {
     "data": {
      "text/plain": [
       "StackingClassifier(estimators=[('knn_clf', KNeighborsClassifier()),\n",
       "                               ('xgb_clf',\n",
       "                                XGBClassifier(base_score=0.5, booster='gbtree',\n",
       "                                              colsample_bylevel=1,\n",
       "                                              colsample_bynode=1,\n",
       "                                              colsample_bytree=1, gamma=0,\n",
       "                                              gpu_id=-1, importance_type='gain',\n",
       "                                              interaction_constraints='',\n",
       "                                              learning_rate=0.300000012,\n",
       "                                              max_delta_step=0, max_depth=6,\n",
       "                                              min_child_weight=1, missing=nan,\n",
       "                                              monotone_constraints='()',\n",
       "                                              n_estimators=100, n_jobs=0,\n",
       "                                              num_parallel_tree=1,\n",
       "                                              objective='multi:softprob',\n",
       "                                              random_state=0, reg_alpha=0,\n",
       "                                              reg_lambda=1,\n",
       "                                              scale_pos_weight=None,\n",
       "                                              subsample=1, tree_method='exact',\n",
       "                                              validate_parameters=1,\n",
       "                                              verbosity=None)),\n",
       "                               ('dt_clf', DecisionTreeClassifier())],\n",
       "                   final_estimator=DecisionTreeClassifier())"
      ]
     },
     "execution_count": 54,
     "metadata": {},
     "output_type": "execute_result"
    }
   ],
   "source": [
    "stack_model2.fit(X_train, y_train)"
   ]
  },
  {
   "cell_type": "code",
   "execution_count": 55,
   "id": "bd160e0e",
   "metadata": {},
   "outputs": [
    {
     "data": {
      "text/plain": [
       "93.50378787878788"
      ]
     },
     "execution_count": 55,
     "metadata": {},
     "output_type": "execute_result"
    }
   ],
   "source": [
    "y_test_pred2 = stack_model2.predict(X_test)\n",
    "stack_model2_test_accuracy = accuracy_score(y_test, y_test_pred2)\n",
    "stack_model2_test_accuracy*100"
   ]
  },
  {
   "cell_type": "code",
   "execution_count": 56,
   "id": "733937b3",
   "metadata": {},
   "outputs": [],
   "source": [
    "stack_model3 = StackingClassifier(\n",
    "    estimators=estimator_list, final_estimator=KNeighborsClassifier(n_neighbors=5)\n",
    ")"
   ]
  },
  {
   "cell_type": "code",
   "execution_count": 57,
   "id": "7afcf2c2",
   "metadata": {},
   "outputs": [
    {
     "data": {
      "text/plain": [
       "StackingClassifier(estimators=[('knn_clf', KNeighborsClassifier()),\n",
       "                               ('xgb_clf',\n",
       "                                XGBClassifier(base_score=0.5, booster='gbtree',\n",
       "                                              colsample_bylevel=1,\n",
       "                                              colsample_bynode=1,\n",
       "                                              colsample_bytree=1, gamma=0,\n",
       "                                              gpu_id=-1, importance_type='gain',\n",
       "                                              interaction_constraints='',\n",
       "                                              learning_rate=0.300000012,\n",
       "                                              max_delta_step=0, max_depth=6,\n",
       "                                              min_child_weight=1, missing=nan,\n",
       "                                              monotone_constraints='()',\n",
       "                                              n_estimators=100, n_jobs=0,\n",
       "                                              num_parallel_tree=1,\n",
       "                                              objective='multi:softprob',\n",
       "                                              random_state=0, reg_alpha=0,\n",
       "                                              reg_lambda=1,\n",
       "                                              scale_pos_weight=None,\n",
       "                                              subsample=1, tree_method='exact',\n",
       "                                              validate_parameters=1,\n",
       "                                              verbosity=None)),\n",
       "                               ('dt_clf', DecisionTreeClassifier())],\n",
       "                   final_estimator=KNeighborsClassifier())"
      ]
     },
     "execution_count": 57,
     "metadata": {},
     "output_type": "execute_result"
    }
   ],
   "source": [
    "stack_model3.fit(X_train, y_train)"
   ]
  },
  {
   "cell_type": "code",
   "execution_count": 58,
   "id": "042b82df",
   "metadata": {},
   "outputs": [
    {
     "data": {
      "text/plain": [
       "94.12878787878788"
      ]
     },
     "execution_count": 58,
     "metadata": {},
     "output_type": "execute_result"
    }
   ],
   "source": [
    "y_test_pred3 = stack_model3.predict(X_test)\n",
    "stack_model3_test_accuracy = accuracy_score(y_test, y_test_pred3)\n",
    "stack_model3_test_accuracy*100"
   ]
  },
  {
   "cell_type": "code",
   "execution_count": 59,
   "id": "ea3fd421",
   "metadata": {},
   "outputs": [
    {
     "data": {
      "text/plain": [
       "StackingClassifier(estimators=[('knn_clf', KNeighborsClassifier()),\n",
       "                               ('xgb_clf',\n",
       "                                XGBClassifier(base_score=0.5, booster='gbtree',\n",
       "                                              colsample_bylevel=1,\n",
       "                                              colsample_bynode=1,\n",
       "                                              colsample_bytree=1, gamma=0,\n",
       "                                              gpu_id=-1, importance_type='gain',\n",
       "                                              interaction_constraints='',\n",
       "                                              learning_rate=0.300000012,\n",
       "                                              max_delta_step=0, max_depth=6,\n",
       "                                              min_child_weight=1, missing=nan,\n",
       "                                              monotone_constraints='()',\n",
       "                                              n_estimators=100, n_jobs=0,\n",
       "                                              num_parallel_tree=1,\n",
       "                                              objective='multi:softprob',\n",
       "                                              random_state=0, reg_alpha=0,\n",
       "                                              reg_lambda=1,\n",
       "                                              scale_pos_weight=None,\n",
       "                                              subsample=1, tree_method='exact',\n",
       "                                              validate_parameters=1,\n",
       "                                              verbosity=None)),\n",
       "                               ('dt_clf', DecisionTreeClassifier())],\n",
       "                   final_estimator=LogisticRegression())"
      ]
     },
     "execution_count": 59,
     "metadata": {},
     "output_type": "execute_result"
    }
   ],
   "source": [
    "stack_model4 = StackingClassifier(\n",
    "    estimators=estimator_list, final_estimator=LogisticRegression()\n",
    ")\n",
    "stack_model4.fit(X_train, y_train)"
   ]
  },
  {
   "cell_type": "code",
   "execution_count": 60,
   "id": "a236de12",
   "metadata": {},
   "outputs": [
    {
     "data": {
      "text/plain": [
       "94.10984848484848"
      ]
     },
     "execution_count": 60,
     "metadata": {},
     "output_type": "execute_result"
    }
   ],
   "source": [
    "y_test_pred4 = stack_model4.predict(X_test)\n",
    "stack_model4_test_accuracy = accuracy_score(y_test, y_test_pred4)\n",
    "stack_model4_test_accuracy*100"
   ]
  },
  {
   "cell_type": "code",
   "execution_count": 61,
   "id": "daceb126",
   "metadata": {},
   "outputs": [
    {
     "data": {
      "text/plain": [
       "StackingClassifier(estimators=[('knn_clf', KNeighborsClassifier()),\n",
       "                               ('xgb_clf',\n",
       "                                XGBClassifier(base_score=0.5, booster='gbtree',\n",
       "                                              colsample_bylevel=1,\n",
       "                                              colsample_bynode=1,\n",
       "                                              colsample_bytree=1, gamma=0,\n",
       "                                              gpu_id=-1, importance_type='gain',\n",
       "                                              interaction_constraints='',\n",
       "                                              learning_rate=0.300000012,\n",
       "                                              max_delta_step=0, max_depth=6,\n",
       "                                              min_child_weight=1, missing=nan,\n",
       "                                              monotone_constraints='()',\n",
       "                                              n_estimators=100, n_jobs=0,\n",
       "                                              num_parallel_tree=1,\n",
       "                                              objective='multi:softprob',\n",
       "                                              random_state=0, reg_alpha=0,\n",
       "                                              reg_lambda=1,\n",
       "                                              scale_pos_weight=None,\n",
       "                                              subsample=1, tree_method='exact',\n",
       "                                              validate_parameters=1,\n",
       "                                              verbosity=None)),\n",
       "                               ('dt_clf', DecisionTreeClassifier())],\n",
       "                   final_estimator=SVC())"
      ]
     },
     "execution_count": 61,
     "metadata": {},
     "output_type": "execute_result"
    }
   ],
   "source": [
    "stack_model5 = StackingClassifier(\n",
    "    estimators=estimator_list, final_estimator=SVC()\n",
    ")\n",
    "stack_model5.fit(X_train, y_train)"
   ]
  },
  {
   "cell_type": "code",
   "execution_count": 62,
   "id": "500c79a9",
   "metadata": {},
   "outputs": [
    {
     "data": {
      "text/plain": [
       "94.18560606060606"
      ]
     },
     "execution_count": 62,
     "metadata": {},
     "output_type": "execute_result"
    }
   ],
   "source": [
    "y_test_pred5 = stack_model5.predict(X_test)\n",
    "stack_model5_test_accuracy = accuracy_score(y_test, y_test_pred5)\n",
    "stack_model5_test_accuracy*100"
   ]
  },
  {
   "cell_type": "code",
   "execution_count": 64,
   "id": "5b997bc8",
   "metadata": {},
   "outputs": [
    {
     "data": {
      "text/plain": [
       "<AxesSubplot:>"
      ]
     },
     "execution_count": 64,
     "metadata": {},
     "output_type": "execute_result"
    },
    {
     "data": {
      "image/png": "[encoded data removed]",
      "text/plain": [
       "<Figure size 432x432 with 2 Axes>"
      ]
     },
     "metadata": {
      "needs_background": "light"
     },
     "output_type": "display_data"
    }
   ],
   "source": [
    "#Print confusion matrix\n",
    "cm = confusion_matrix(y_test, y_test_pred5)\n",
    "\n",
    "fig, ax = plt.subplots(figsize=(6,6))\n",
    "sns.set(font_scale=1.6)\n",
    "sns.heatmap(cm, annot=True, linewidths=.5, ax=ax)"
   ]
  },
  {
   "cell_type": "code",
   "execution_count": null,
   "id": "e0db1ca9",
   "metadata": {},
   "outputs": [],
   "source": []
  }
 ],
 "metadata": {
  "kernelspec": {
   "display_name": "Python 3 (ipykernel)",
   "language": "python",
   "name": "python3"
  },
  "language_info": {
   "codemirror_mode": {
    "name": "ipython",
    "version": 3
   },
   "file_extension": ".py",
   "mimetype": "text/x-python",
   "name": "python",
   "nbconvert_exporter": "python",
   "pygments_lexer": "ipython3",
   "version": "3.7.6"
  }
 },
 "nbformat": 4,
 "nbformat_minor": 5
}
